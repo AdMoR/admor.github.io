{
 "cells": [
  {
   "cell_type": "code",
   "execution_count": 1,
   "metadata": {},
   "outputs": [
    {
     "name": "stdout",
     "output_type": "stream",
     "text": [
      "Requirement already satisfied: numpy in ./venv/lib/python3.6/site-packages (1.19.4)\n",
      "\u001b[33mYou are using pip version 18.1, however version 20.3b1 is available.\n",
      "You should consider upgrading via the 'pip install --upgrade pip' command.\u001b[0m\n",
      "Requirement already satisfied: matplotlib in ./venv/lib/python3.6/site-packages (3.3.2)\n",
      "Requirement already satisfied: python-dateutil>=2.1 in ./venv/lib/python3.6/site-packages (from matplotlib) (2.8.1)\n",
      "Requirement already satisfied: numpy>=1.15 in ./venv/lib/python3.6/site-packages (from matplotlib) (1.19.4)\n",
      "Requirement already satisfied: pyparsing!=2.0.4,!=2.1.2,!=2.1.6,>=2.0.3 in ./venv/lib/python3.6/site-packages (from matplotlib) (2.4.7)\n",
      "Requirement already satisfied: certifi>=2020.06.20 in ./venv/lib/python3.6/site-packages (from matplotlib) (2020.6.20)\n",
      "Requirement already satisfied: kiwisolver>=1.0.1 in ./venv/lib/python3.6/site-packages (from matplotlib) (1.3.1)\n",
      "Requirement already satisfied: cycler>=0.10 in ./venv/lib/python3.6/site-packages (from matplotlib) (0.10.0)\n",
      "Requirement already satisfied: pillow>=6.2.0 in ./venv/lib/python3.6/site-packages (from matplotlib) (8.0.1)\n",
      "Requirement already satisfied: six>=1.5 in ./venv/lib/python3.6/site-packages (from python-dateutil>=2.1->matplotlib) (1.15.0)\n",
      "\u001b[33mYou are using pip version 18.1, however version 20.3b1 is available.\n",
      "You should consider upgrading via the 'pip install --upgrade pip' command.\u001b[0m\n",
      "Requirement already satisfied: seaborn in ./venv/lib/python3.6/site-packages (0.11.0)\n",
      "Requirement already satisfied: pandas>=0.23 in ./venv/lib/python3.6/site-packages (from seaborn) (1.1.4)\n",
      "Requirement already satisfied: numpy>=1.15 in ./venv/lib/python3.6/site-packages (from seaborn) (1.19.4)\n",
      "Requirement already satisfied: matplotlib>=2.2 in ./venv/lib/python3.6/site-packages (from seaborn) (3.3.2)\n",
      "Requirement already satisfied: scipy>=1.0 in ./venv/lib/python3.6/site-packages (from seaborn) (1.5.4)\n",
      "Requirement already satisfied: python-dateutil>=2.7.3 in ./venv/lib/python3.6/site-packages (from pandas>=0.23->seaborn) (2.8.1)\n",
      "Requirement already satisfied: pytz>=2017.2 in ./venv/lib/python3.6/site-packages (from pandas>=0.23->seaborn) (2020.4)\n",
      "Requirement already satisfied: kiwisolver>=1.0.1 in ./venv/lib/python3.6/site-packages (from matplotlib>=2.2->seaborn) (1.3.1)\n",
      "Requirement already satisfied: certifi>=2020.06.20 in ./venv/lib/python3.6/site-packages (from matplotlib>=2.2->seaborn) (2020.6.20)\n",
      "Requirement already satisfied: pyparsing!=2.0.4,!=2.1.2,!=2.1.6,>=2.0.3 in ./venv/lib/python3.6/site-packages (from matplotlib>=2.2->seaborn) (2.4.7)\n",
      "Requirement already satisfied: cycler>=0.10 in ./venv/lib/python3.6/site-packages (from matplotlib>=2.2->seaborn) (0.10.0)\n",
      "Requirement already satisfied: pillow>=6.2.0 in ./venv/lib/python3.6/site-packages (from matplotlib>=2.2->seaborn) (8.0.1)\n",
      "Requirement already satisfied: six>=1.5 in ./venv/lib/python3.6/site-packages (from python-dateutil>=2.7.3->pandas>=0.23->seaborn) (1.15.0)\n",
      "\u001b[33mYou are using pip version 18.1, however version 20.3b1 is available.\n",
      "You should consider upgrading via the 'pip install --upgrade pip' command.\u001b[0m\n",
      "Requirement already satisfied: scikit-image in ./venv/lib/python3.6/site-packages (0.17.2)\n",
      "Requirement already satisfied: scipy>=1.0.1 in ./venv/lib/python3.6/site-packages (from scikit-image) (1.5.4)\n",
      "Requirement already satisfied: tifffile>=2019.7.26 in ./venv/lib/python3.6/site-packages (from scikit-image) (2020.9.3)\n",
      "Requirement already satisfied: imageio>=2.3.0 in ./venv/lib/python3.6/site-packages (from scikit-image) (2.9.0)\n",
      "Requirement already satisfied: networkx>=2.0 in ./venv/lib/python3.6/site-packages (from scikit-image) (2.5)\n",
      "Requirement already satisfied: pillow!=7.1.0,!=7.1.1,>=4.3.0 in ./venv/lib/python3.6/site-packages (from scikit-image) (8.0.1)\n",
      "Requirement already satisfied: PyWavelets>=1.1.1 in ./venv/lib/python3.6/site-packages (from scikit-image) (1.1.1)\n",
      "Requirement already satisfied: numpy>=1.15.1 in ./venv/lib/python3.6/site-packages (from scikit-image) (1.19.4)\n",
      "Requirement already satisfied: matplotlib!=3.0.0,>=2.0.0 in ./venv/lib/python3.6/site-packages (from scikit-image) (3.3.2)\n",
      "Requirement already satisfied: decorator>=4.3.0 in ./venv/lib/python3.6/site-packages (from networkx>=2.0->scikit-image) (4.4.2)\n",
      "Requirement already satisfied: python-dateutil>=2.1 in ./venv/lib/python3.6/site-packages (from matplotlib!=3.0.0,>=2.0.0->scikit-image) (2.8.1)\n",
      "Requirement already satisfied: certifi>=2020.06.20 in ./venv/lib/python3.6/site-packages (from matplotlib!=3.0.0,>=2.0.0->scikit-image) (2020.6.20)\n",
      "Requirement already satisfied: kiwisolver>=1.0.1 in ./venv/lib/python3.6/site-packages (from matplotlib!=3.0.0,>=2.0.0->scikit-image) (1.3.1)\n",
      "Requirement already satisfied: cycler>=0.10 in ./venv/lib/python3.6/site-packages (from matplotlib!=3.0.0,>=2.0.0->scikit-image) (0.10.0)\n",
      "Requirement already satisfied: pyparsing!=2.0.4,!=2.1.2,!=2.1.6,>=2.0.3 in ./venv/lib/python3.6/site-packages (from matplotlib!=3.0.0,>=2.0.0->scikit-image) (2.4.7)\n",
      "Requirement already satisfied: six>=1.5 in ./venv/lib/python3.6/site-packages (from python-dateutil>=2.1->matplotlib!=3.0.0,>=2.0.0->scikit-image) (1.15.0)\n",
      "\u001b[33mYou are using pip version 18.1, however version 20.3b1 is available.\n",
      "You should consider upgrading via the 'pip install --upgrade pip' command.\u001b[0m\n",
      "Requirement already satisfied: imageio in ./venv/lib/python3.6/site-packages (2.9.0)\n",
      "Requirement already satisfied: numpy in ./venv/lib/python3.6/site-packages (from imageio) (1.19.4)\n",
      "Requirement already satisfied: pillow in ./venv/lib/python3.6/site-packages (from imageio) (8.0.1)\n",
      "\u001b[33mYou are using pip version 18.1, however version 20.3b1 is available.\n",
      "You should consider upgrading via the 'pip install --upgrade pip' command.\u001b[0m\n"
     ]
    }
   ],
   "source": [
    "!pip install numpy\n",
    "!pip install matplotlib\n",
    "!pip install seaborn\n",
    "!pip install scikit-image\n",
    "!pip install imageio"
   ]
  },
  {
   "cell_type": "code",
   "execution_count": 2,
   "metadata": {},
   "outputs": [],
   "source": [
    "import numpy as np\n",
    "from matplotlib import pyplot as plt\n",
    "import seaborn as sns\n",
    "import matplotlib.patches as mpatches"
   ]
  },
  {
   "cell_type": "markdown",
   "metadata": {},
   "source": [
    "# Part 1 : The base algorithm"
   ]
  },
  {
   "cell_type": "code",
   "execution_count": 3,
   "metadata": {},
   "outputs": [],
   "source": [
    "\n",
    "def one_iter_propagate(wave, adj):\n",
    "    padded = np.pad(\n",
    "                    wave, ((0, 0), (1, 1), (1, 1)), mode=\"constant\", constant_values=True\n",
    "                )\n",
    "    update = dict()\n",
    "    for d in adj:\n",
    "        dx, dy = d\n",
    "        current = padded[\n",
    "            :, (dx + 1):(wave.shape[1] + dx + 1), (dy + 1):(wave.shape[2] + dy + 1)  \n",
    "        ]\n",
    "        \n",
    "        update[d] = (adj[d] @ current.reshape(current.shape[0], -1)).reshape(current.shape)\n",
    "        \n",
    "    for d in adj:\n",
    "        wave *= update[d]\n",
    "        \n",
    "    np.clip(wave, 0, 1, out=wave)\n",
    "\n",
    "        \n",
    "def propagate(wave, adj):\n",
    "    count = 0\n",
    "    last_count = 0\n",
    "    while last_count != wave.sum():\n",
    "        last_count = wave.sum()\n",
    "        one_iter_propagate(wave, adj)\n",
    "        \n",
    "        if (wave.sum(axis=0) == 0).any():\n",
    "            plt.figure()\n",
    "            show_state_map(wave)\n",
    "            raise Exception(\"Contradiction found\")\n",
    "            \n",
    "        count += 1\n",
    "        \n",
    "    return count\n",
    "\n",
    "    "
   ]
  },
  {
   "cell_type": "code",
   "execution_count": 4,
   "metadata": {},
   "outputs": [],
   "source": [
    "def show_state_map(wave, colors=None, legend=True, savefig=False, ax=None):\n",
    "    \n",
    "    state_size = wave.shape[0]\n",
    "    colors = list(map(np.array, sns.color_palette(\"hls\", state_size))) if not colors else colors\n",
    "    \n",
    "    if colors[0][0] > 1.0:\n",
    "        colors = [np.array([c[0] / 255., c[1] / 255., c[2] / 255.]) for c in colors ]\n",
    "    img = np.ones((wave.shape[1], wave.shape[2], 3))\n",
    "    \n",
    "    for i in range(img.shape[0]):\n",
    "        for j in range(img.shape[1]):\n",
    "            if sum(wave[:, i, j]) == 1:\n",
    "                selected_color = np.argmax(wave[:, i, j])\n",
    "                img[i, j, :] = colors[selected_color]\n",
    "            else:\n",
    "                img[i, j, :] = 1. / sum(wave[:, i, j]) * sum(colors[k] for k in range(state_size) if wave[k, i, j] == 1)\n",
    "                \n",
    "    patches = [mpatches.Patch(color=colors[i], label=f'Class {i}') for i in range(state_size)]\n",
    "    mixed_color_patches = []#[mpatches.Patch(color=0.5 * colors[i] + 0.5 * colors[j], label=f'Class {i}+{j}') for i in range(state_size) for j in range(state_size) if i < j]\n",
    "    \n",
    "    if legend:\n",
    "        plt.legend(handles=patches + mixed_color_patches, loc=\"lower right\")\n",
    "    \n",
    "    if savefig:\n",
    "        if not os.path.exists(\"./saved_figs\"):\n",
    "            os.mkdir(\"./saved_figs\")\n",
    "        index = (wave.shape[0] * wave.shape[1] * wave.shape[2]) - np.sum(wave)\n",
    "        plt.savefig(f\"./saved_figs/fig_{index}.png\")\n",
    "    else:\n",
    "        if ax is None:\n",
    "            plt.imshow(img)\n",
    "        else:\n",
    "            ax.imshow(img)\n",
    "        "
   ]
  },
  {
   "cell_type": "code",
   "execution_count": 5,
   "metadata": {},
   "outputs": [
    {
     "name": "stdout",
     "output_type": "stream",
     "text": [
      "[0. 1. 1.]\n"
     ]
    },
    {
     "data": {
      "image/png": "[encoded data removed]",
      "text/plain": [
       "<Figure size 432x288 with 1 Axes>"
      ]
     },
     "metadata": {
      "needs_background": "light"
     },
     "output_type": "display_data"
    },
    {
     "data": {
      "image/png": "[encoded data removed]",
      "text/plain": [
       "<Figure size 432x288 with 1 Axes>"
      ]
     },
     "metadata": {
      "needs_background": "light"
     },
     "output_type": "display_data"
    }
   ],
   "source": [
    "def test_propagate_iter():\n",
    "    wave = np.ones((3, 10, 10))\n",
    "    \n",
    "    prop_base = np.array(\n",
    "          [[0, 1, 1],\n",
    "           [1, 0, 1], \n",
    "           [1, 1, 0], \n",
    "           ]\n",
    "    )\n",
    "\n",
    "    wave[:, 0, 0] = 0\n",
    "    wave[0, 0, 0] = 1\n",
    "    \n",
    "    show_state_map(wave)\n",
    "\n",
    "    adj = {(-1, 0): prop_base, (1, 0): prop_base, (0, -1): prop_base, (0, 1): prop_base}\n",
    "    one_iter_propagate(wave, adj)\n",
    "    \n",
    "    plt.figure()\n",
    "    show_state_map(wave)\n",
    "    \n",
    "    print(wave[:, 1, 0])\n",
    "    \n",
    "test_propagate_iter()"
   ]
  },
  {
   "cell_type": "code",
   "execution_count": 6,
   "metadata": {},
   "outputs": [
    {
     "name": "stdout",
     "output_type": "stream",
     "text": [
      "2\n"
     ]
    },
    {
     "data": {
      "image/png": "[encoded data removed]",
      "text/plain": [
       "<Figure size 432x288 with 1 Axes>"
      ]
     },
     "metadata": {
      "needs_background": "light"
     },
     "output_type": "display_data"
    },
    {
     "data": {
      "image/png": "[encoded data removed]",
      "text/plain": [
       "<Figure size 432x288 with 1 Axes>"
      ]
     },
     "metadata": {
      "needs_background": "light"
     },
     "output_type": "display_data"
    }
   ],
   "source": [
    "def test_full_propagate():\n",
    "    wave = np.ones((4, 10, 10))\n",
    "    \n",
    "    prop_base = np.array(\n",
    "          [[0, 1, 1, 1],\n",
    "           [1, 0, 1, 1], \n",
    "           [1, 1, 0, 1], \n",
    "           [1, 1, 1, 0]]\n",
    "    )\n",
    "    \n",
    "    wave[:, 0, 0] = 0\n",
    "    wave[0, 0, 0] = 1\n",
    "    \n",
    "    show_state_map(wave)\n",
    "\n",
    "    adj = {(-1, 0): prop_base, (1, 0): prop_base, (0, -1): prop_base, (0, 1): prop_base}\n",
    "    count = propagate(wave, adj)\n",
    "    \n",
    "    plt.figure()\n",
    "    show_state_map(wave)\n",
    "    \n",
    "    print(count)\n",
    "    assert(count == 2)\n",
    "    \n",
    "test_full_propagate()"
   ]
  },
  {
   "cell_type": "code",
   "execution_count": 7,
   "metadata": {},
   "outputs": [],
   "source": [
    "def select_location(wave):\n",
    "    \n",
    "    sub_index = np.where(np.sum(wave, axis=0) > 1, np.sum(wave, axis=0), 10000)\n",
    "\n",
    "    index = np.argmin(sub_index)\n",
    "\n",
    "    i = int(index / wave.shape[2])\n",
    "    j = index % wave.shape[2]\n",
    "        \n",
    "    return i, j\n",
    "    \n",
    "\n",
    "def choose_state(wave, u, v):\n",
    "    array = wave[:, u, v]\n",
    "    indices = list(range(array.shape[0]))\n",
    "    norm_array = array / sum(array)\n",
    "    \n",
    "    state_chosen = np.random.choice(indices, p=norm_array)\n",
    "    wave[:, u, v] = 0\n",
    "    wave[state_chosen, u, v] = 1\n",
    "\n",
    "    \n",
    "\n",
    "def wave_collapse_agorithm(wave, adj, show=True, save=False):\n",
    "    \n",
    "    iteration = 0\n",
    "    \n",
    "    while wave.sum() > wave.shape[1] * wave.shape[2]:\n",
    "        if(iteration % 1 == 0 and show):\n",
    "            plt.figure()\n",
    "            show_state_map(wave)\n",
    "            print(f\"Iteration {iteration}\")\n",
    "            \n",
    "        u, v = select_location(wave)\n",
    "        \n",
    "        choose_state(wave, u, v)\n",
    "        \n",
    "        if save:\n",
    "            show_state_map(wave, savefig=True)\n",
    "        \n",
    "        propagate(wave, adj)\n",
    "        iteration += 1\n",
    "        \n",
    "        if iteration > 100 * wave.shape[1] * wave.shape[2]:\n",
    "            break\n",
    "        \n",
    "    "
   ]
  },
  {
   "cell_type": "code",
   "execution_count": 8,
   "metadata": {},
   "outputs": [
    {
     "name": "stdout",
     "output_type": "stream",
     "text": [
      "Iteration 0\n"
     ]
    },
    {
     "ename": "NameError",
     "evalue": "name 'os' is not defined",
     "output_type": "error",
     "traceback": [
      "\u001b[0;31m----------------------------------------\u001b[0m",
      "\u001b[0;31mNameError\u001b[0mTraceback (most recent call last)",
      "\u001b[0;32m<ipython-input-8-66e58c0881d1>\u001b[0m in \u001b[0;36m<module>\u001b[0;34m\u001b[0m\n\u001b[1;32m     19\u001b[0m     \u001b[0mshow_state_map\u001b[0m\u001b[0;34m(\u001b[0m\u001b[0mwave\u001b[0m\u001b[0;34m)\u001b[0m\u001b[0;34m\u001b[0m\u001b[0;34m\u001b[0m\u001b[0m\n\u001b[1;32m     20\u001b[0m \u001b[0;34m\u001b[0m\u001b[0m\n\u001b[0;32m---> 21\u001b[0;31m \u001b[0mtest_full_algorithm\u001b[0m\u001b[0;34m(\u001b[0m\u001b[0;34m)\u001b[0m\u001b[0;34m\u001b[0m\u001b[0;34m\u001b[0m\u001b[0m\n\u001b[0m",
      "\u001b[0;32m<ipython-input-8-66e58c0881d1>\u001b[0m in \u001b[0;36mtest_full_algorithm\u001b[0;34m()\u001b[0m\n\u001b[1;32m     13\u001b[0m \u001b[0;34m\u001b[0m\u001b[0m\n\u001b[1;32m     14\u001b[0m \u001b[0;34m\u001b[0m\u001b[0m\n\u001b[0;32m---> 15\u001b[0;31m     \u001b[0mwave_collapse_agorithm\u001b[0m\u001b[0;34m(\u001b[0m\u001b[0mwave\u001b[0m\u001b[0;34m,\u001b[0m \u001b[0madj\u001b[0m\u001b[0;34m,\u001b[0m \u001b[0msave\u001b[0m\u001b[0;34m=\u001b[0m\u001b[0;32mTrue\u001b[0m\u001b[0;34m)\u001b[0m\u001b[0;34m\u001b[0m\u001b[0;34m\u001b[0m\u001b[0m\n\u001b[0m\u001b[1;32m     16\u001b[0m \u001b[0;34m\u001b[0m\u001b[0m\n\u001b[1;32m     17\u001b[0m     \u001b[0mplt\u001b[0m\u001b[0;34m.\u001b[0m\u001b[0mfigure\u001b[0m\u001b[0;34m(\u001b[0m\u001b[0;34m)\u001b[0m\u001b[0;34m\u001b[0m\u001b[0;34m\u001b[0m\u001b[0m\n",
      "\u001b[0;32m<ipython-input-7-6e163844b167>\u001b[0m in \u001b[0;36mwave_collapse_agorithm\u001b[0;34m(wave, adj, show, save)\u001b[0m\n\u001b[1;32m     37\u001b[0m \u001b[0;34m\u001b[0m\u001b[0m\n\u001b[1;32m     38\u001b[0m         \u001b[0;32mif\u001b[0m \u001b[0msave\u001b[0m\u001b[0;34m:\u001b[0m\u001b[0;34m\u001b[0m\u001b[0;34m\u001b[0m\u001b[0m\n\u001b[0;32m---> 39\u001b[0;31m             \u001b[0mshow_state_map\u001b[0m\u001b[0;34m(\u001b[0m\u001b[0mwave\u001b[0m\u001b[0;34m,\u001b[0m \u001b[0msavefig\u001b[0m\u001b[0;34m=\u001b[0m\u001b[0;32mTrue\u001b[0m\u001b[0;34m)\u001b[0m\u001b[0;34m\u001b[0m\u001b[0;34m\u001b[0m\u001b[0m\n\u001b[0m\u001b[1;32m     40\u001b[0m \u001b[0;34m\u001b[0m\u001b[0m\n\u001b[1;32m     41\u001b[0m         \u001b[0mpropagate\u001b[0m\u001b[0;34m(\u001b[0m\u001b[0mwave\u001b[0m\u001b[0;34m,\u001b[0m \u001b[0madj\u001b[0m\u001b[0;34m)\u001b[0m\u001b[0;34m\u001b[0m\u001b[0;34m\u001b[0m\u001b[0m\n",
      "\u001b[0;32m<ipython-input-4-ddc1886c4b0d>\u001b[0m in \u001b[0;36mshow_state_map\u001b[0;34m(wave, colors, legend, savefig, ax)\u001b[0m\n\u001b[1;32m     23\u001b[0m \u001b[0;34m\u001b[0m\u001b[0m\n\u001b[1;32m     24\u001b[0m     \u001b[0;32mif\u001b[0m \u001b[0msavefig\u001b[0m\u001b[0;34m:\u001b[0m\u001b[0;34m\u001b[0m\u001b[0;34m\u001b[0m\u001b[0m\n\u001b[0;32m---> 25\u001b[0;31m         \u001b[0;32mif\u001b[0m \u001b[0;32mnot\u001b[0m \u001b[0mos\u001b[0m\u001b[0;34m.\u001b[0m\u001b[0mpath\u001b[0m\u001b[0;34m.\u001b[0m\u001b[0mexists\u001b[0m\u001b[0;34m(\u001b[0m\u001b[0;34m\"./saved_figs\"\u001b[0m\u001b[0;34m)\u001b[0m\u001b[0;34m:\u001b[0m\u001b[0;34m\u001b[0m\u001b[0;34m\u001b[0m\u001b[0m\n\u001b[0m\u001b[1;32m     26\u001b[0m             \u001b[0mos\u001b[0m\u001b[0;34m.\u001b[0m\u001b[0mmkdir\u001b[0m\u001b[0;34m(\u001b[0m\u001b[0;34m\"./saved_figs\"\u001b[0m\u001b[0;34m)\u001b[0m\u001b[0;34m\u001b[0m\u001b[0;34m\u001b[0m\u001b[0m\n\u001b[1;32m     27\u001b[0m         \u001b[0mindex\u001b[0m \u001b[0;34m=\u001b[0m \u001b[0;34m(\u001b[0m\u001b[0mwave\u001b[0m\u001b[0;34m.\u001b[0m\u001b[0mshape\u001b[0m\u001b[0;34m[\u001b[0m\u001b[0;36m0\u001b[0m\u001b[0;34m]\u001b[0m \u001b[0;34m*\u001b[0m \u001b[0mwave\u001b[0m\u001b[0;34m.\u001b[0m\u001b[0mshape\u001b[0m\u001b[0;34m[\u001b[0m\u001b[0;36m1\u001b[0m\u001b[0;34m]\u001b[0m \u001b[0;34m*\u001b[0m \u001b[0mwave\u001b[0m\u001b[0;34m.\u001b[0m\u001b[0mshape\u001b[0m\u001b[0;34m[\u001b[0m\u001b[0;36m2\u001b[0m\u001b[0;34m]\u001b[0m\u001b[0;34m)\u001b[0m \u001b[0;34m-\u001b[0m \u001b[0mnp\u001b[0m\u001b[0;34m.\u001b[0m\u001b[0msum\u001b[0m\u001b[0;34m(\u001b[0m\u001b[0mwave\u001b[0m\u001b[0;34m)\u001b[0m\u001b[0;34m\u001b[0m\u001b[0;34m\u001b[0m\u001b[0m\n",
      "\u001b[0;31mNameError\u001b[0m: name 'os' is not defined"
     ]
    },
    {
     "data": {
      "image/png": "[encoded data removed]",
      "text/plain": [
       "<Figure size 432x288 with 1 Axes>"
      ]
     },
     "metadata": {
      "needs_background": "light"
     },
     "output_type": "display_data"
    },
    {
     "data": {
      "image/png": "[encoded data removed]",
      "text/plain": [
       "<Figure size 432x288 with 1 Axes>"
      ]
     },
     "metadata": {
      "needs_background": "light"
     },
     "output_type": "display_data"
    }
   ],
   "source": [
    "\n",
    "\n",
    "def test_full_algorithm():\n",
    "    wave = np.ones((3, 10, 10))\n",
    "    \n",
    "    prop_base = np.array(\n",
    "          [[0, 1, 1],\n",
    "           [1, 0, 1], \n",
    "           [1, 1, 0]])\n",
    "\n",
    "\n",
    "    show_state_map(wave)\n",
    "\n",
    "    adj = {(-1, 0): prop_base, (1, 0): prop_base, (0, -1): prop_base, (0, 1): prop_base}\n",
    "    \n",
    "    \n",
    "    wave_collapse_agorithm(wave, adj, save=True)\n",
    "    \n",
    "    plt.figure()\n",
    "    plt.figure(figsize=(20,20))\n",
    "    show_state_map(wave)\n",
    "    \n",
    "test_full_algorithm()"
   ]
  },
  {
   "cell_type": "code",
   "execution_count": null,
   "metadata": {},
   "outputs": [],
   "source": [
    "from pathlib import Path\n",
    "import imageio\n",
    "\n",
    "image_path = Path('./saved_figs')\n",
    "images = sorted(list(image_path.glob('*.png')), key=lambda x: float(x.name.split(\".\")[0].split(\"_\")[1]))\n",
    "image_list = []\n",
    "for file_name in images:\n",
    "    image_list.append(imageio.imread(file_name))\n",
    "    \n",
    "imageio.mimwrite('animated_from_images.gif', image_list)"
   ]
  },
  {
   "cell_type": "code",
   "execution_count": null,
   "metadata": {},
   "outputs": [],
   "source": [
    "image_path = Path('./saved_figs')\n",
    "\n",
    "l = list(image_path.glob('*.png'))\n",
    "\n",
    "l[0]"
   ]
  },
  {
   "cell_type": "code",
   "execution_count": null,
   "metadata": {},
   "outputs": [],
   "source": [
    "dir(l[0])\n",
    "\n",
    "l[0].name"
   ]
  },
  {
   "cell_type": "code",
   "execution_count": null,
   "metadata": {},
   "outputs": [],
   "source": []
  },
  {
   "cell_type": "code",
   "execution_count": null,
   "metadata": {},
   "outputs": [],
   "source": []
  },
  {
   "cell_type": "code",
   "execution_count": null,
   "metadata": {},
   "outputs": [],
   "source": []
  },
  {
   "cell_type": "markdown",
   "metadata": {},
   "source": [
    "# Part 2 : Adding patterns"
   ]
  },
  {
   "cell_type": "code",
   "execution_count": null,
   "metadata": {},
   "outputs": [],
   "source": [
    "def ffrom_wave_to_patterns(wave, pattern_map, pattern_size):\n",
    "    index_img = np.argmax(wave, axis=0)\n",
    "    \n",
    "    w = wave.shape[2] * pattern_size\n",
    "    h = wave.shape[1] * pattern_size\n",
    "    \n",
    "    img = np.zeros((h, w, 4))\n",
    "    \n",
    "    for i in range(index_img.shape[0]):\n",
    "        for j in range(index_img.shape[1]):\n",
    "            index = int(index_img[i, j])\n",
    "            pattern = pattern_map[index]\n",
    "            img[i * pattern_size: (i+ 1) * pattern_size, j * pattern_size: (j+ 1) * pattern_size, :] = pattern\n",
    "            \n",
    "    plt.figure()\n",
    "    plt.imshow(img)\n",
    "\n",
    "wave = np.zeros((3, 10, 10))\n",
    "wave[0, :, :] = 1\n",
    "pattern_map = {0: 0 * np.ones((40, 40, 4)), \n",
    "               1: 0.5 * np.ones((40, 40, 4)), \n",
    "               2: 1 * np.ones((40, 40, 4))}\n",
    "ffrom_wave_to_patterns(wave, pattern_map, 40)"
   ]
  },
  {
   "cell_type": "code",
   "execution_count": null,
   "metadata": {},
   "outputs": [],
   "source": [
    "from skimage import io\n",
    "from skimage import transform\n",
    "import os"
   ]
  },
  {
   "cell_type": "code",
   "execution_count": null,
   "metadata": {},
   "outputs": [],
   "source": [
    "\n",
    "\n",
    "def buid_arrow_collection(pattern_size=40, dir_location=\"/Users/a.morvan/Documents/code_dw/notebook_and_scripts_collections/wave_function_collapse/imgs/arrows/\"):\n",
    "    pattern_map = dict()\n",
    "    for i, extension in enumerate([\"up\", \"down\", \"left\", \"right\"]):\n",
    "        file_loc = os.path.join(dir_location, f\"arrow_{extension}.png\")\n",
    "        print(file_loc)\n",
    "        arrow = io.imread(file_loc)    \n",
    "        arrow_resize = transform.resize(arrow, (40, 40), anti_aliasing=True)\n",
    "        \n",
    "        pattern_map[i] = arrow_resize\n",
    "        \n",
    "    return pattern_map\n",
    "    \n",
    "pattern_map = buid_arrow_collection()\n",
    "plt.imshow(pattern_map[0])"
   ]
  },
  {
   "cell_type": "code",
   "execution_count": null,
   "metadata": {},
   "outputs": [],
   "source": []
  },
  {
   "cell_type": "code",
   "execution_count": null,
   "metadata": {},
   "outputs": [],
   "source": [
    "plt.figure(figsize=(20,20))\n",
    "ffrom_wave_to_patterns(wave, pattern_map, 40)"
   ]
  },
  {
   "cell_type": "code",
   "execution_count": null,
   "metadata": {},
   "outputs": [],
   "source": []
  },
  {
   "cell_type": "code",
   "execution_count": null,
   "metadata": {},
   "outputs": [],
   "source": []
  },
  {
   "cell_type": "markdown",
   "metadata": {},
   "source": [
    "# Part 3 : Read pattern from an image and generate new"
   ]
  },
  {
   "cell_type": "code",
   "execution_count": null,
   "metadata": {},
   "outputs": [],
   "source": [
    "# Read an image, ccut it in NxN patterns and build the adj map\n",
    "\n",
    "def build_map_from_img(img_path, pattern_size, nb_pattern):\n",
    "    \n",
    "    img = io.imread(img_path)\n",
    "    \n",
    "    \n",
    "    \n",
    "    "
   ]
  },
  {
   "cell_type": "code",
   "execution_count": null,
   "metadata": {},
   "outputs": [],
   "source": [
    "img = io.imread(\"/Users/a.morvan/Documents/code_dw/notebook_and_scripts_collections/wave_function_collapse/imgs/wall/pattern.png\")\n",
    "\n",
    "print(img.shape)\n",
    "\n",
    "img = img[:20, :20, :]\n",
    "\n",
    "print(img.shape)"
   ]
  },
  {
   "cell_type": "code",
   "execution_count": null,
   "metadata": {},
   "outputs": [],
   "source": [
    "pattern_size = 5\n",
    "\n",
    "patterns = [img[i * pattern_size: (i + 1) * pattern_size, j * pattern_size: (j + 1) * pattern_size, :]\n",
    "            for i in range(6) for j in range(10)]\n",
    "\n",
    "\n",
    "plt.imshow(patterns[0])\n"
   ]
  },
  {
   "cell_type": "code",
   "execution_count": null,
   "metadata": {},
   "outputs": [],
   "source": [
    "def quantify(my_img, q=32):\n",
    "    return q * np.round(my_img // q)\n",
    "    \n",
    "print(np.mean(img))\n",
    "    \n",
    "plt.imshow(quantify(img))"
   ]
  },
  {
   "cell_type": "code",
   "execution_count": null,
   "metadata": {},
   "outputs": [],
   "source": [
    "def get_patterns(my_img, pattern_size):\n",
    "    max_i = my_img.shape[0] // pattern_size\n",
    "    max_j = my_img.shape[1] // pattern_size\n",
    "    return [my_img[i * pattern_size: (i + 1) * pattern_size, j * pattern_size: (j + 1) * pattern_size, :]\n",
    "            for i in range(max_i) for j in range(max_j)]\n",
    "\n",
    "patterns = get_patterns(quantify(img), 2)\n",
    "\n",
    "plt.imshow(patterns[2])"
   ]
  },
  {
   "cell_type": "code",
   "execution_count": null,
   "metadata": {},
   "outputs": [],
   "source": [
    "patterns = get_patterns(quantify(img), 2)\n",
    "\n",
    "for i, p1 in enumerate(patterns):\n",
    "    for j, p2 in enumerate(patterns):\n",
    "        if j <= i:\n",
    "            continue\n",
    "        if (p1 == p2).all():\n",
    "            print(i, j)"
   ]
  },
  {
   "cell_type": "code",
   "execution_count": null,
   "metadata": {},
   "outputs": [],
   "source": [
    "len(patterns)"
   ]
  },
  {
   "cell_type": "code",
   "execution_count": null,
   "metadata": {},
   "outputs": [],
   "source": []
  },
  {
   "cell_type": "code",
   "execution_count": null,
   "metadata": {},
   "outputs": [],
   "source": []
  },
  {
   "cell_type": "code",
   "execution_count": null,
   "metadata": {},
   "outputs": [],
   "source": [
    "def build_adj_based_on_img(h, w): \n",
    "    \n",
    "    def is_in_area(i, j):\n",
    "        return (i >= 0) and (i < h) and (j >= 0) and (j < w)\n",
    "    \n",
    "    def to_index(u, v):\n",
    "        return u * w + v\n",
    "    \n",
    "    nb_patterns = h * w\n",
    "    \n",
    "    adj = {(-1, 0): np.zeros((nb_patterns, nb_patterns)),\n",
    "           (1, 0): np.zeros((nb_patterns, nb_patterns)),\n",
    "           (0, -1): np.zeros((nb_patterns, nb_patterns)),\n",
    "           (0, 1): np.zeros((nb_patterns, nb_patterns)),\n",
    "          }\n",
    "    \n",
    "    for direction in adj:\n",
    "        for i in range(h):\n",
    "            for j in range(w):\n",
    "                \n",
    "                print((i, j))\n",
    "                \n",
    "                new_point = (i + direction[0], j + direction[1])\n",
    "                \n",
    "                \n",
    "                \n",
    "                if is_in_area(new_point[0], new_point[1]):\n",
    "                    print(\"---> \", (i, j))\n",
    "                    print(\"--->> \", new_point, to_index(i, j), to_index(new_point[0], new_point[1]))\n",
    "                    adj[direction][to_index(i, j), to_index(new_point[0], new_point[1])] = 1\n",
    "                    \n",
    "    return adj\n",
    "                \n",
    "    \n",
    "         \n",
    "\n",
    "adj = build_adj_based_on_img(4, 4)\n",
    "\n",
    "plt.imshow(adj[(-1, 0)])\n",
    "plt.figure()\n",
    "plt.imshow(adj[(-1, 0)])\n"
   ]
  },
  {
   "cell_type": "code",
   "execution_count": null,
   "metadata": {},
   "outputs": [],
   "source": [
    "adj[(-1, 0)]"
   ]
  },
  {
   "cell_type": "code",
   "execution_count": null,
   "metadata": {},
   "outputs": [],
   "source": []
  },
  {
   "cell_type": "code",
   "execution_count": null,
   "metadata": {},
   "outputs": [],
   "source": []
  },
  {
   "cell_type": "markdown",
   "metadata": {},
   "source": [
    "# Part 2 alternate : vertical world\n",
    "\n",
    "A set of colors can be stacked one upon another with strict order \n",
    "\n",
    "bottom = brown <= green <= blue = top"
   ]
  },
  {
   "cell_type": "code",
   "execution_count": null,
   "metadata": {},
   "outputs": [],
   "source": [
    "\n",
    "COLORS = [(96, 13, 42), (42, 96, 13), (13, 42, 96)]\n",
    "\n",
    "\n",
    "# Bottom rule : yourself or the previous one\n",
    "bottom_rule = np.array(\n",
    "          [[1, 0, 0],\n",
    "           [1, 1, 0], \n",
    "           [0, 1, 1]]\n",
    "    )\n",
    "# top rule : yourself or the next one\n",
    "top_rule = np.array(\n",
    "          [[1, 1, 0],\n",
    "           [0, 1, 1], \n",
    "           [0, 0, 1]]\n",
    "    )\n",
    "# Side rule : anyone\n",
    "side_rule = np.array(\n",
    "          [[1, 1, 1],\n",
    "           [1, 1, 1], \n",
    "           [1, 1, 1]]\n",
    "    )\n",
    "\n",
    "\n",
    "adj = {(-1, 0): bottom_rule, (1, 0): top_rule, (0, -1): side_rule, (0, 1): side_rule}\n"
   ]
  },
  {
   "cell_type": "code",
   "execution_count": null,
   "metadata": {},
   "outputs": [],
   "source": [
    "wave = np.ones((3, 10, 10))\n",
    "\n",
    "wave_collapse_agorithm(wave, adj)\n",
    "\n",
    "plt.figure()\n",
    "plt.figure(figsize=(20,20))\n",
    "show_state_map(wave)"
   ]
  },
  {
   "cell_type": "code",
   "execution_count": null,
   "metadata": {},
   "outputs": [],
   "source": [
    "\n",
    "def build_vertical_rules(n_colors):\n",
    "    \n",
    "    bottom_rule = np.eye(n_colors)\n",
    "    for i in range(n_colors - 1):\n",
    "        bottom_rule[i + 1, i] = 1\n",
    "        \n",
    "    top_rule = np.eye(n_colors)\n",
    "    for i in range(n_colors - 1):\n",
    "        top_rule[i, i + 1] = 1\n",
    "        \n",
    "    side_rule = np.ones((n_colors, n_colors))\n",
    "    \n",
    "    return bottom_rule, top_rule, side_rule\n",
    "\n",
    "\n",
    "def build_vertical_world(colors, size=10):\n",
    "    \n",
    "    # Define vars of the pb\n",
    "    n_tiles = len(colors)\n",
    "    wave = np.ones((n_tiles, size, size))\n",
    "\n",
    "    # Build adjacency matric\n",
    "    bottom_rule, top_rule, side_rule = build_vertical_rules(n_tiles)\n",
    "    adj = {(-1, 0): bottom_rule, (1, 0): top_rule, (0, -1): side_rule, (0, 1): side_rule}\n",
    "    \n",
    "    print(bottom_rule.shape)\n",
    "\n",
    "    # Define the bottom of the map as layer 0\n",
    "    wave[1:, 0, :] = 0\n",
    "    propagate(wave, adj)\n",
    "    \n",
    "    # Run the wave collapse alg\n",
    "    wave_collapse_agorithm(wave, adj)\n",
    "\n",
    "    plt.figure(figsize=(20,20))\n",
    "    show_state_map(wave, colors)\n",
    "\n",
    "\n",
    "\n",
    "build_vertical_world(COLORS)"
   ]
  },
  {
   "cell_type": "code",
   "execution_count": null,
   "metadata": {},
   "outputs": [],
   "source": []
  },
  {
   "cell_type": "code",
   "execution_count": null,
   "metadata": {},
   "outputs": [],
   "source": [
    "\n",
    "color_palette_build = lambda r,g,b: [(r, g, b), (b, r, g), (g, b, r)]\n",
    "\n",
    "COLORS = color_palette_build(214, 130, 159)\n",
    "\n",
    "build_vertical_world(COLORS)"
   ]
  },
  {
   "cell_type": "code",
   "execution_count": null,
   "metadata": {},
   "outputs": [],
   "source": []
  },
  {
   "cell_type": "code",
   "execution_count": null,
   "metadata": {},
   "outputs": [],
   "source": [
    "\n",
    "COLORS = color_palette_build(228, 229, 190)\n",
    "\n",
    "build_vertical_world(COLORS, 30)"
   ]
  },
  {
   "cell_type": "code",
   "execution_count": null,
   "metadata": {},
   "outputs": [],
   "source": []
  },
  {
   "cell_type": "code",
   "execution_count": null,
   "metadata": {
    "scrolled": false
   },
   "outputs": [],
   "source": [
    "\n",
    "multiple_color_palette_build = lambda r,g,b, n: [np.round(float(n - i) / n * np.array([r, g, b])) for i in  range(n)]\n",
    "my_colors = multiple_color_palette_build(228, 229, 190, 10)\n",
    "\n",
    "print(my_colors)\n",
    "\n",
    "build_vertical_world(my_colors, 100)"
   ]
  },
  {
   "cell_type": "code",
   "execution_count": null,
   "metadata": {},
   "outputs": [],
   "source": []
  },
  {
   "cell_type": "code",
   "execution_count": null,
   "metadata": {},
   "outputs": [],
   "source": []
  },
  {
   "cell_type": "markdown",
   "metadata": {},
   "source": [
    "# 3 - Handling of symetry\n",
    "\n",
    "This can be easily applied to domino-like tiles.\n",
    "They need a matching number in order to be connected together.\n",
    "\n",
    "Symmetry rules are defined on top of connected-or-not rules between tiles.\n",
    "To simplify our example, we will keep only 1-0 connections\n",
    " \n",
    "     up right down left \n",
    "T = \\[0   1.    1.   1. \\]\n",
    "\n",
    "We can deduce connectivity of rotated version of T\n",
    "\n",
    "       up right down left \n",
    "- T  = \\[0   1.    1.   1. \\]\n",
    "- |- = \\[1   1.    1.   0. \\] rotated right once 90° \n",
    "- | =  \\[1   1.    0.   1. \\] rotated right twice 90° \n",
    "- -| = \\[1   0.    1.   1. \\] rotated right thrice 90° \n",
    "\n",
    "\n",
    "To find connections between symmetric transformation of peices we can use the following rule building : \n",
    "\n",
    " - Right connection T and |-  == M\\[0, right\\] * M\\[1, left\\]\n",
    "\n"
   ]
  },
  {
   "cell_type": "code",
   "execution_count": null,
   "metadata": {},
   "outputs": [],
   "source": [
    "\n",
    "UP = 0\n",
    "RIGHT = 1\n",
    "DOWN = 2\n",
    "LEFT = 3\n",
    "\n",
    "T_CONNECTIVITY = [0, 1, 1, 1]\n",
    "\n",
    "ROT_90_MAT = np.array([[0, 1, 0, 0], [0, 0, 1, 0], [0, 0, 0, 1], [1, 0, 0, 0]])\n",
    "\n",
    "\n",
    "\n"
   ]
  },
  {
   "cell_type": "code",
   "execution_count": null,
   "metadata": {},
   "outputs": [],
   "source": [
    "ROT_90_MAT.dot(np.array(T_CONNECTIVITY))"
   ]
  },
  {
   "cell_type": "code",
   "execution_count": null,
   "metadata": {},
   "outputs": [],
   "source": [
    "\n",
    "\n",
    "def build_all_rotations(ref_pieces, keep=[1, 1, 1, 1]):\n",
    "    assert type(ref_pieces) == list\n",
    "    result_array = []\n",
    "    for ref_piece in ref_pieces:\n",
    "        result_array.append(ref_piece)\n",
    "        for _, kept in zip(range(3), keep[1:]):\n",
    "            if kept:\n",
    "                result = ROT_90_MAT.dot(result_array[-1])\n",
    "                result_array.append(result)\n",
    "    return result_array\n",
    "\n",
    "\n",
    "build_all_rotations([np.array(T_CONNECTIVITY)])\n"
   ]
  },
  {
   "cell_type": "code",
   "execution_count": null,
   "metadata": {},
   "outputs": [],
   "source": [
    "direction_dictionnary = {\n",
    "    3: (-1, 0), 0: (-1, 0), 1: (0, 1), 3: (0, -1)\n",
    "}\n",
    "\n",
    "def build_adj_from_number_vec(vector_array):\n",
    "    N = len(vector_array)\n",
    "    adj = {direction: np.zeros((N, N)) for direction in direction_dictionnary.values()}\n",
    "    for direction_index, direction in direction_dictionnary.items():\n",
    "        for i in range(N):\n",
    "            for j in range(N):\n",
    "                adj[direction][i, j] = vector_array[i, direction_index] == vector_array[j, (direction_index + 2) % 4] \n",
    "    return adj\n",
    "    \n",
    "    \n",
    "adj = build_adj_from_number_vec(np.array(build_all_rotations(np.array(T_CONNECTIVITY))))\n",
    "adj"
   ]
  },
  {
   "cell_type": "code",
   "execution_count": null,
   "metadata": {},
   "outputs": [],
   "source": [
    "wave = np.ones((4, 10, 10))\n",
    "\n",
    "# Run the wave collapse alg\n",
    "wave_collapse_agorithm(wave, adj)\n",
    "\n",
    "plt.figure(figsize=(20,20))\n",
    "show_state_map(wave, None)"
   ]
  },
  {
   "cell_type": "code",
   "execution_count": null,
   "metadata": {},
   "outputs": [],
   "source": [
    "\n",
    "\n",
    "\n"
   ]
  },
  {
   "cell_type": "code",
   "execution_count": null,
   "metadata": {},
   "outputs": [],
   "source": [
    "from skimage.transform import rotate\n",
    "\n",
    "def buid_rotated_collection(pattern_size=40, img_path=\"/Users/a.morvan/Documents/code_dw/notebook_and_scripts_collections/wave_function_collapse/imgs/pipe/T_up.png\"):\n",
    "    pic = io.imread(img_path)  \n",
    "    pic_resize = transform.resize(pic, (40, 40), anti_aliasing=True)\n",
    "    pattern_map = dict()\n",
    "    for index, angle in enumerate([0, 90, 180, 270]):\n",
    "        pattern_map[index] = rotate(pic_resize, angle)   \n",
    "        \n",
    "    return pattern_map\n",
    "\n",
    "pattern_map = buid_rotated_collection()\n",
    "ffrom_wave_to_patterns(wave, pattern_map, 40)"
   ]
  },
  {
   "cell_type": "code",
   "execution_count": null,
   "metadata": {},
   "outputs": [],
   "source": []
  },
  {
   "cell_type": "code",
   "execution_count": null,
   "metadata": {
    "scrolled": false
   },
   "outputs": [],
   "source": [
    "L_CONNECTIVITY = [1, 1, 0, 0]\n",
    "\n",
    "\n",
    "array = np.array(build_all_rotations([np.array(T_CONNECTIVITY), np.array(L_CONNECTIVITY)]))\n",
    "\n",
    "adj = build_adj_from_number_vec(array)\n",
    "\n",
    "\n",
    "wave = np.ones((8, 10, 10))\n",
    "\n",
    "# Run the wave collapse alg\n",
    "excepted = True\n",
    "count = 0\n",
    "while excepted is True:\n",
    "    try:\n",
    "        wave_collapse_agorithm(wave, adj, show=False)\n",
    "        excepted = False\n",
    "    except:\n",
    "        wave = np.ones((8, 10, 10))\n",
    "        count += 1\n",
    "        if count > 1000:\n",
    "            break\n",
    "\n",
    "\n",
    "#plt.figure(figsize=(20,20))\n",
    "show_state_map(wave, None, legend=False)\n",
    "\n",
    "pattern_map_1 = buid_rotated_collection(img_path=\"/Users/a.morvan/Documents/code_dw/notebook_and_scripts_collections/wave_function_collapse/imgs/pipe/gold_T_up.png\")\n",
    "pattern_map_2 = buid_rotated_collection(img_path=\"/Users/a.morvan/Documents/code_dw/notebook_and_scripts_collections/wave_function_collapse/imgs/pipe/gold_L_up.png\")\n",
    "\n",
    "for index, img in pattern_map_2.items():\n",
    "    pattern_map_1[4 + index] = img\n",
    "\n",
    "\n",
    "ffrom_wave_to_patterns(wave, pattern_map_1, 40)\n",
    "\n"
   ]
  },
  {
   "cell_type": "markdown",
   "metadata": {},
   "source": [
    "# Handling more symetry with 1-to-many relation with tiles \n",
    "\n",
    "Challenges\n",
    "- Not all symetries are needed for dot and I pattern, we need to to do it properly to reduce pb size\n",
    "- Need to modify the pattern filling function to choose between two (or more) possible patterns"
   ]
  },
  {
   "cell_type": "markdown",
   "metadata": {},
   "source": [
    "### Data structure\n",
    "\n",
    "Dictionary like \n",
    "\n",
    "```\n",
    "{L -> [rotated_matrices], X -> [...]}\n",
    "\n",
    "adj, letter_to_index = build_adj_from_number_vec(...)\n",
    "```\n",
    "\n",
    "letter_to_index = {L_0°: 0, L_90°: 1, ...}\n",
    "\n",
    "```\n",
    "tiles = {L_0° -> [tile_1, tile_2], L_90° -> [tile_1_90 ..], X -> [X_up]}\n",
    "build_patterns(wave, tiles`\n",
    "```\n"
   ]
  },
  {
   "cell_type": "markdown",
   "metadata": {},
   "source": [
    "### Handling Different symetries"
   ]
  },
  {
   "cell_type": "code",
   "execution_count": null,
   "metadata": {},
   "outputs": [],
   "source": [
    "\n",
    "\n",
    "def build_symetry_set():\n",
    "\n",
    "    # 4 elements created\n",
    "    T_CONNECTIVITY = [0, 1, 1, 1]\n",
    "    L_CONNECTIVITY = [1, 1, 0, 0]\n",
    "    \n",
    "    # 2 elements created\n",
    "    I_CONNECTIVITY = [1, 0, 1, 0]\n",
    "    \n",
    "    # 1 element created\n",
    "    X_CONNECTIVITY = [1, 1, 1, 1]\n",
    "    ANTIX_CONNECTIVITY = [0, 0, 0, 0]\n",
    "\n",
    "    array = np.array(build_all_rotations([np.array(T_CONNECTIVITY), np.array(L_CONNECTIVITY)]))\n",
    "    array_2 = np.array(build_all_rotations([np.array(I_CONNECTIVITY)], keep=[1, 1, 0, 0]))\n",
    "\n",
    "    final_array = np.concatenate([array, array_2, np.array(X_CONNECTIVITY).reshape((1, -1)), np.array(ANTIX_CONNECTIVITY).reshape((1, -1))], axis=0)\n",
    "    \n",
    "    index_dict = {f\"T_{i}\": i for i in range(4)}\n",
    "    index_dict.update({f\"L_{i}\": j for i, j in enumerate(range(4, 8))})\n",
    "    index_dict.update({f\"I_{i}\": j for i, j in enumerate(range(8, 10))})\n",
    "    index_dict[\"X_0\"] = 10\n",
    "    index_dict[\"AX_0\"] = 11\n",
    "    \n",
    "    array_dict = {k: final_array[v, :] for k, v in index_dict.items()}\n",
    "    return array_dict, index_dict\n",
    "    \n",
    "def define_tile_set(tile_dict, array_dict):\n",
    "    \"\"\"\n",
    "    We expect something like \n",
    "    tile_dict = {\"T\": [\"file_1.jpg\", \"file_2.jpg\"], ....}\n",
    "    \"\"\"\n",
    "    found_letters = set(tile_dict.keys())\n",
    "    sub_array = [array_dict[k].reshape(1, -1) for k in array_dict if k.split(\"_\")[0] in found_letters]\n",
    "    return np.concatenate(sub_array, axis=0) \n",
    "\n",
    "\n",
    "def run_wave_collapse(my_adj, h, w):\n",
    "    n_tiles = my_adj[(-1, 0)].shape[0]\n",
    "    wave = np.ones((n_tiles, h, w))\n",
    "\n",
    "    # Run the wave collapse alg\n",
    "    excepted = True\n",
    "    count = 0\n",
    "    while excepted is True:\n",
    "        try:\n",
    "            wave_collapse_agorithm(wave, my_adj, show=False)\n",
    "            excepted = False\n",
    "        except:\n",
    "            wave = np.ones((n_tiles, h, w))\n",
    "            count += 1\n",
    "            if count > 1000:\n",
    "                break\n",
    "    return wave\n",
    "\n",
    "def build_rotated_collection(tile_dict, index_dict, img_size=40):\n",
    "    \"\"\"\n",
    "    tile_dict = {\"T\": [\"file_1.jpg\", \"file_2.jpg\"], ....}\n",
    "    index_dict = {\"T_0\": 0, ..., \"AX_0\": 11}\n",
    "    \n",
    "    out: {0: [img1, img2], ...}\n",
    "    \"\"\"\n",
    "    pattern_map = {k: list() for k in index_dict.values()}\n",
    "    for tile_type, filepaths in tile_dict.items():\n",
    "        for filepath in filepaths:\n",
    "            pic = io.imread(filepath)\n",
    "            pic_resized = transform.resize(pic, (img_size, img_size), anti_aliasing=True)\n",
    "            for index, angle in enumerate([0, 90, 180, 270]):\n",
    "                name = f\"{tile_type}_{index}\"\n",
    "                if name in index_dict:\n",
    "                    pattern_map[index_dict[name]].append(rotate(pic_resized, angle))\n",
    "                \n",
    "    return {k: v for k, v in pattern_map.items() if len(v) > 0}\n",
    "\n",
    "\n",
    "def build_final_img(wave, pattern_map, pattern_size, ax=None):\n",
    "    n_channels = pattern_map[0][0].shape[2]\n",
    "    print(\"n_channels\", [pattern_map[i][0].shape for i in range(len(pattern_map))])\n",
    "    index_img = np.argmax(wave, axis=0)\n",
    "    \n",
    "    w = wave.shape[2] * pattern_size\n",
    "    h = wave.shape[1] * pattern_size\n",
    "    \n",
    "    img = np.zeros((h, w, n_channels))\n",
    "    \n",
    "    for i in range(index_img.shape[0]):\n",
    "        for j in range(index_img.shape[1]):\n",
    "            index = int(index_img[i, j])\n",
    "            tile_index = np.random.choice(range(len(pattern_map[index])))\n",
    "            pattern = pattern_map[index][tile_index]\n",
    "            img[i * pattern_size: (i+ 1) * pattern_size, j * pattern_size: (j+ 1) * pattern_size, :] = pattern\n",
    "            \n",
    "    if ax is None:\n",
    "        plt.imshow(img)\n",
    "    else:\n",
    "        ax.imshow(img)\n",
    "\n"
   ]
  },
  {
   "cell_type": "code",
   "execution_count": null,
   "metadata": {},
   "outputs": [],
   "source": [
    "\n",
    "tile_dict = {\"T\": [\"/Users/a.morvan/Documents/code_dw/notebook_and_scripts_collections/wave_function_collapse/imgs/pipe/gold_T_up.png\"],\n",
    "             \"L\": [\"/Users/a.morvan/Documents/code_dw/notebook_and_scripts_collections/wave_function_collapse/imgs/pipe/gold_L_up.png\"]}\n",
    "array_dict, index_dict = build_symetry_set()\n",
    "array = define_tile_set(tile_dict, array_dict)\n",
    "print(array)\n",
    "adj = build_adj_from_number_vec(array)\n",
    "\n",
    "wave = run_wave_collapse(adj, 10, 10)\n",
    "\n",
    "pattern_map = build_rotated_collection(tile_dict, index_dict)\n",
    "\n"
   ]
  },
  {
   "cell_type": "code",
   "execution_count": null,
   "metadata": {},
   "outputs": [],
   "source": [
    "plt.figure(figsize=(20,20))\n",
    "build_final_img(wave, pattern_map, 40)"
   ]
  },
  {
   "cell_type": "code",
   "execution_count": null,
   "metadata": {},
   "outputs": [],
   "source": [
    "dir_ = \"/Users/a.morvan/Documents/code_dw/notebook_and_scripts_collections/wave_function_collapse/imgs\"\n",
    "tile_dict = {\"T\": [os.path.join(dir_, f) for f in [\"racing/T_0_up.png\"]],\n",
    "             \"L\": [os.path.join(dir_, f) for f in [\"racing/L_0_up.jpg\"]],\n",
    "             \"I\": [os.path.join(dir_, f) for f in [\"racing/I_0_up.jpg\"]],\n",
    "             \"X\": [os.path.join(dir_, f) for f in [\"racing/X_0.png\"]],\n",
    "             \"AX\": [os.path.join(dir_, f) for f in [\"racing/AX_0.jpg\"]],     }\n",
    "array_dict, index_dict = build_symetry_set()\n",
    "array = define_tile_set(tile_dict, array_dict)\n",
    "print(array)\n",
    "adj = build_adj_from_number_vec(array)\n",
    "print(adj[(-1, 0)].shape)\n",
    "\n",
    "wave = run_wave_collapse(adj, 10, 10)\n",
    "print(wave.shape)\n"
   ]
  },
  {
   "cell_type": "code",
   "execution_count": null,
   "metadata": {},
   "outputs": [],
   "source": [
    "f, (ax1, ax2) = plt.subplots(1, 2)\n",
    "\n",
    "pattern_map = build_rotated_collection(tile_dict, index_dict, img_size=80)\n",
    "build_final_img(wave, pattern_map, 80, ax=ax1)\n",
    "\n",
    "show_state_map(wave, ax=ax2)"
   ]
  },
  {
   "cell_type": "code",
   "execution_count": null,
   "metadata": {},
   "outputs": [],
   "source": [
    "block_size = 100\n",
    "\n",
    "plt.figure(figsize=(40,40))\n",
    "pattern_map = build_rotated_collection(tile_dict, index_dict, img_size=block_size)\n",
    "build_final_img(wave, pattern_map, block_size)"
   ]
  },
  {
   "cell_type": "code",
   "execution_count": null,
   "metadata": {},
   "outputs": [],
   "source": [
    "for i, img in pattern_map.items():\n",
    "    plt.figure()\n",
    "    plt.imshow(img[0])\n",
    "    plt.title(i)\n",
    "    plt.legend()"
   ]
  },
  {
   "cell_type": "code",
   "execution_count": null,
   "metadata": {},
   "outputs": [],
   "source": []
  },
  {
   "cell_type": "code",
   "execution_count": null,
   "metadata": {},
   "outputs": [],
   "source": []
  },
  {
   "cell_type": "code",
   "execution_count": null,
   "metadata": {},
   "outputs": [],
   "source": []
  }
 ],
 "metadata": {
  "kernelspec": {
   "display_name": "Python 3",
   "language": "python",
   "name": "python3"
  },
  "language_info": {
   "codemirror_mode": {
    "name": "ipython",
    "version": 3
   },
   "file_extension": ".py",
   "mimetype": "text/x-python",
   "name": "python",
   "nbconvert_exporter": "python",
   "pygments_lexer": "ipython3",
   "version": "3.6.12"
  }
 },
 "nbformat": 4,
 "nbformat_minor": 4
}
